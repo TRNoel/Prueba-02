{
 "cells": [
  {
   "cell_type": "code",
   "execution_count": 42,
   "id": "8ca55e09-b027-4d9e-88ee-206e3e4f9b08",
   "metadata": {},
   "outputs": [
    {
     "name": "stdout",
     "output_type": "stream",
     "text": [
      "[7]\n",
      "[4, 10]\n",
      "Tu suma: 14\n"
     ]
    },
    {
     "name": "stdin",
     "output_type": "stream",
     "text": [
      "Quieres otra carta? y/n y\n"
     ]
    },
    {
     "name": "stdout",
     "output_type": "stream",
     "text": [
      "[4, 10, 10]\n",
      "24, you loose\n",
      "La suma de la Banca es 17, con [7, 10], you LOOSE\n"
     ]
    }
   ],
   "source": [
    "\n",
    "import random\n",
    "\n",
    "cartas = [11, 2, 3, 4, 5, 6, 7, 8, 9, 10, 10, 10, 10]\n",
    "\n",
    "cartas_banco = []\n",
    "cartas_jugador = []\n",
    "\n",
    "carta1_banco = random.choice(cartas)\n",
    "carta2_banco = random.choice(cartas)\n",
    "carta3_banco = random.choice(cartas)\n",
    "\n",
    "carta1_jugador = random.choice(cartas)\n",
    "carta2_jugador = random.choice(cartas)\n",
    "carta3_jugador = random.choice(cartas)\n",
    "\n",
    "cartas_banco.append(carta1_banco)\n",
    "cartas_jugador.extend([carta1_jugador, carta2_jugador])\n",
    "\n",
    "print(cartas_banco)\n",
    "print(cartas_jugador)\n",
    "\n",
    "cartas_banco.append(carta2_banco)\n",
    "if sum(cartas_banco) < 17:\n",
    "    cartas_banco.append(carta3_banco)\n",
    "\n",
    "def carta_11(juego_de_cartas):\n",
    "    total_cartas = sum(juego_de_cartas)\n",
    "    for valor in juego_de_cartas:\n",
    "        if valor == 11 and total_cartas > 21:\n",
    "            total_cartas = sum(juego_de_cartas) - 10\n",
    "    return total_cartas       \n",
    "\n",
    "Suma_jugador = carta_11(cartas_jugador)\n",
    "if Suma_jugador > 21:\n",
    "    print(f\"{Suma_jugador}, you LOOSE\")\n",
    "else:\n",
    "    print(f\"Tu suma: {Suma_jugador}\")\n",
    "\n",
    "carta3 = input(\"Quieres otra carta? y/n\")\n",
    "if carta3 == \"y\":\n",
    "    cartas_jugador.append(carta3_banco)\n",
    "    print(cartas_jugador)\n",
    "    Suma_jugador = carta_11(cartas_jugador)\n",
    "    if Suma_jugador > 21:\n",
    "        print(f\"{Suma_jugador}, you loose\")\n",
    "    else:\n",
    "        print(f\"Tu suma: {Suma_jugador}\")\n",
    "else:\n",
    "    tres_cartas = False    \n",
    "\n",
    "Suma_Banca = carta_11(cartas_banco)\n",
    "\n",
    "if Suma_Banca > 21:\n",
    "    gana_jugador = True\n",
    "elif Suma_Banca > Suma_jugador:\n",
    "    gana_jugador = False\n",
    "elif Suma_Banca > Suma_jugador and Suma_jugador < 21:\n",
    "    gana_jugador = True\n",
    "    \n",
    "if gana_jugador:\n",
    "    victoria = \"WIN\"\n",
    "else:\n",
    "    victoria = \"LOOSE\"\n",
    "\n",
    "print(f\"La suma de la Banca es {Suma_Banca}, con {cartas_banco}, you {victoria}\")"
   ]
  },
  {
   "cell_type": "code",
   "execution_count": null,
   "id": "2929d68a-0a96-43fc-801d-18b86df743c6",
   "metadata": {},
   "outputs": [],
   "source": []
  },
  {
   "cell_type": "code",
   "execution_count": null,
   "id": "eb776abb-61eb-45d0-a344-5ed66df236dc",
   "metadata": {},
   "outputs": [],
   "source": []
  },
  {
   "cell_type": "code",
   "execution_count": null,
   "id": "a21c685e-cec7-4dd5-91fe-c5dc3c1123ad",
   "metadata": {},
   "outputs": [],
   "source": []
  }
 ],
 "metadata": {
  "kernelspec": {
   "display_name": "Python 3 (ipykernel)",
   "language": "python",
   "name": "python3"
  },
  "language_info": {
   "codemirror_mode": {
    "name": "ipython",
    "version": 3
   },
   "file_extension": ".py",
   "mimetype": "text/x-python",
   "name": "python",
   "nbconvert_exporter": "python",
   "pygments_lexer": "ipython3",
   "version": "3.11.5"
  }
 },
 "nbformat": 4,
 "nbformat_minor": 5
}
