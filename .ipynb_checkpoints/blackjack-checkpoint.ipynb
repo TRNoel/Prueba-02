{
 "cells": [
  {
   "cell_type": "code",
   "execution_count": 16,
   "id": "8ca55e09-b027-4d9e-88ee-206e3e4f9b08",
   "metadata": {},
   "outputs": [
    {
     "name": "stdout",
     "output_type": "stream",
     "text": [
      "7\n",
      "10\n"
     ]
    },
    {
     "ename": "NameError",
     "evalue": "name 'carta2_jugador' is not defined",
     "output_type": "error",
     "traceback": [
      "\u001b[0;31m---------------------------------------------------------------------------\u001b[0m",
      "\u001b[0;31mNameError\u001b[0m                                 Traceback (most recent call last)",
      "Cell \u001b[0;32mIn[16], line 14\u001b[0m\n\u001b[1;32m     12\u001b[0m \u001b[38;5;28mprint\u001b[39m(carta1_banco)\n\u001b[1;32m     13\u001b[0m \u001b[38;5;28mprint\u001b[39m(carta1_jugador)\n\u001b[0;32m---> 14\u001b[0m \u001b[38;5;28mprint\u001b[39m(carta2_jugador)\n",
      "\u001b[0;31mNameError\u001b[0m: name 'carta2_jugador' is not defined"
     ]
    }
   ],
   "source": [
    "\n",
    "import random\n",
    "\n",
    "cartas = [11, 2, 3, 4, 5, 6, 7, 8, 9, 10, 10, 10, 10]\n",
    "\n",
    "carta1_banco = random.choice(cartas)\n",
    "carta2_banco = random.choice(cartas)\n",
    "carta3_banco = random.choice(cartas)\n",
    "\n",
    "carta1_jugador = random.choice(cartas)\n",
    "carta2_jugador = random.choice(cartas)\n",
    "carta3_jugador = random.choice(cartas)\n",
    "\n",
    "print(carta1_banco)\n",
    "print(carta1_jugador)\n",
    "print(carta2_jugador)\n"
   ]
  },
  {
   "cell_type": "code",
   "execution_count": null,
   "id": "2929d68a-0a96-43fc-801d-18b86df743c6",
   "metadata": {},
   "outputs": [],
   "source": []
  },
  {
   "cell_type": "code",
   "execution_count": null,
   "id": "eb776abb-61eb-45d0-a344-5ed66df236dc",
   "metadata": {},
   "outputs": [],
   "source": []
  },
  {
   "cell_type": "code",
   "execution_count": null,
   "id": "a21c685e-cec7-4dd5-91fe-c5dc3c1123ad",
   "metadata": {},
   "outputs": [],
   "source": []
  }
 ],
 "metadata": {
  "kernelspec": {
   "display_name": "Python 3 (ipykernel)",
   "language": "python",
   "name": "python3"
  },
  "language_info": {
   "codemirror_mode": {
    "name": "ipython",
    "version": 3
   },
   "file_extension": ".py",
   "mimetype": "text/x-python",
   "name": "python",
   "nbconvert_exporter": "python",
   "pygments_lexer": "ipython3",
   "version": "3.11.5"
  }
 },
 "nbformat": 4,
 "nbformat_minor": 5
}
